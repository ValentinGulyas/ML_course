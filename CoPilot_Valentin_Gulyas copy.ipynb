{
 "cells": [
  {
   "cell_type": "code",
   "execution_count": 3,
   "metadata": {},
   "outputs": [],
   "source": [
    "import pandas as pd"
   ]
  },
  {
   "cell_type": "code",
   "execution_count": 5,
   "metadata": {},
   "outputs": [
    {
     "data": {
      "text/html": [
       "<div>\n",
       "<style scoped>\n",
       "    .dataframe tbody tr th:only-of-type {\n",
       "        vertical-align: middle;\n",
       "    }\n",
       "\n",
       "    .dataframe tbody tr th {\n",
       "        vertical-align: top;\n",
       "    }\n",
       "\n",
       "    .dataframe thead th {\n",
       "        text-align: right;\n",
       "    }\n",
       "</style>\n",
       "<table border=\"1\" class=\"dataframe\">\n",
       "  <thead>\n",
       "    <tr style=\"text-align: right;\">\n",
       "      <th></th>\n",
       "      <th>commission_id</th>\n",
       "      <th>salesperson_id</th>\n",
       "      <th>commission_amount</th>\n",
       "      <th>commission_date</th>\n",
       "    </tr>\n",
       "  </thead>\n",
       "  <tbody>\n",
       "    <tr>\n",
       "      <th>0</th>\n",
       "      <td>1</td>\n",
       "      <td>19</td>\n",
       "      <td>87.07</td>\n",
       "      <td>2016-01-01</td>\n",
       "    </tr>\n",
       "    <tr>\n",
       "      <th>1</th>\n",
       "      <td>2</td>\n",
       "      <td>38</td>\n",
       "      <td>336.26</td>\n",
       "      <td>2016-01-01</td>\n",
       "    </tr>\n",
       "    <tr>\n",
       "      <th>2</th>\n",
       "      <td>3</td>\n",
       "      <td>42</td>\n",
       "      <td>280.89</td>\n",
       "      <td>2016-01-01</td>\n",
       "    </tr>\n",
       "    <tr>\n",
       "      <th>3</th>\n",
       "      <td>4</td>\n",
       "      <td>74</td>\n",
       "      <td>193.83</td>\n",
       "      <td>2016-01-01</td>\n",
       "    </tr>\n",
       "    <tr>\n",
       "      <th>4</th>\n",
       "      <td>5</td>\n",
       "      <td>79</td>\n",
       "      <td>106.19</td>\n",
       "      <td>2016-01-01</td>\n",
       "    </tr>\n",
       "  </tbody>\n",
       "</table>\n",
       "</div>"
      ],
      "text/plain": [
       "   commission_id  salesperson_id  commission_amount commission_date\n",
       "0              1              19              87.07      2016-01-01\n",
       "1              2              38             336.26      2016-01-01\n",
       "2              3              42             280.89      2016-01-01\n",
       "3              4              74             193.83      2016-01-01\n",
       "4              5              79             106.19      2016-01-01"
      ]
     },
     "execution_count": 5,
     "metadata": {},
     "output_type": "execute_result"
    }
   ],
   "source": [
    "# read this csv file from https://raw.githubusercontent.com/lontok/datasets/main/digital_marketing_commission.csv into a dataframe\n",
    "df = pd.read_csv('https://raw.githubusercontent.com/lontok/datasets/main/digital_marketing_commission.csv')\n",
    "\n",
    "# show the first 5 rows of the dataframe\n",
    "df.head()"
   ]
  },
  {
   "cell_type": "code",
   "execution_count": 7,
   "metadata": {},
   "outputs": [
    {
     "data": {
      "text/plain": [
       "salesperson_id\n",
       "3       5699.60\n",
       "7       4285.57\n",
       "8       9692.92\n",
       "10     17912.63\n",
       "18     11827.42\n",
       "19      7642.45\n",
       "20     14354.05\n",
       "27     12495.49\n",
       "29     13395.07\n",
       "31     15635.14\n",
       "32     11184.99\n",
       "33     15147.44\n",
       "34     20665.41\n",
       "38     17288.37\n",
       "40     18917.16\n",
       "41     18586.24\n",
       "42     13893.25\n",
       "44     21465.44\n",
       "47     20142.10\n",
       "49     18165.48\n",
       "53     16277.72\n",
       "56     14755.00\n",
       "61     15630.38\n",
       "63     11536.03\n",
       "64     13205.38\n",
       "66     19232.77\n",
       "69     20730.44\n",
       "71     12429.50\n",
       "74     14520.84\n",
       "75     16349.36\n",
       "78     20689.56\n",
       "79     21272.00\n",
       "89     21363.92\n",
       "95     12284.90\n",
       "98     15923.94\n",
       "103    12352.67\n",
       "104    17637.41\n",
       "105    18170.21\n",
       "106    15428.95\n",
       "109    13138.67\n",
       "114    22181.50\n",
       "116    24730.04\n",
       "117    19114.34\n",
       "118    16555.63\n",
       "119     8019.81\n",
       "121    19306.84\n",
       "126    14915.49\n",
       "128    20000.35\n",
       "129    13726.68\n",
       "131    18922.20\n",
       "132    16344.38\n",
       "136    20410.75\n",
       "137     3257.23\n",
       "138    16916.72\n",
       "139    12384.80\n",
       "Name: commission_amount, dtype: float64"
      ]
     },
     "execution_count": 7,
     "metadata": {},
     "output_type": "execute_result"
    }
   ],
   "source": [
    "# group by salesperson_id and sum the commission column\n",
    "df.groupby('salesperson_id')['commission_amount'].sum()"
   ]
  },
  {
   "cell_type": "code",
   "execution_count": 12,
   "metadata": {},
   "outputs": [
    {
     "data": {
      "text/plain": [
       "salesperson_id\n",
       "116    24730.04\n",
       "114    22181.50\n",
       "44     21465.44\n",
       "89     21363.92\n",
       "79     21272.00\n",
       "69     20730.44\n",
       "78     20689.56\n",
       "34     20665.41\n",
       "136    20410.75\n",
       "47     20142.10\n",
       "128    20000.35\n",
       "121    19306.84\n",
       "66     19232.77\n",
       "117    19114.34\n",
       "131    18922.20\n",
       "40     18917.16\n",
       "41     18586.24\n",
       "105    18170.21\n",
       "49     18165.48\n",
       "10     17912.63\n",
       "104    17637.41\n",
       "38     17288.37\n",
       "138    16916.72\n",
       "118    16555.63\n",
       "75     16349.36\n",
       "132    16344.38\n",
       "53     16277.72\n",
       "98     15923.94\n",
       "31     15635.14\n",
       "61     15630.38\n",
       "106    15428.95\n",
       "33     15147.44\n",
       "126    14915.49\n",
       "56     14755.00\n",
       "74     14520.84\n",
       "20     14354.05\n",
       "42     13893.25\n",
       "129    13726.68\n",
       "29     13395.07\n",
       "64     13205.38\n",
       "109    13138.67\n",
       "27     12495.49\n",
       "71     12429.50\n",
       "139    12384.80\n",
       "103    12352.67\n",
       "95     12284.90\n",
       "18     11827.42\n",
       "63     11536.03\n",
       "32     11184.99\n",
       "8       9692.92\n",
       "119     8019.81\n",
       "19      7642.45\n",
       "3       5699.60\n",
       "7       4285.57\n",
       "137     3257.23\n",
       "Name: commission_amount, dtype: float64"
      ]
     },
     "execution_count": 12,
     "metadata": {},
     "output_type": "execute_result"
    }
   ],
   "source": [
    "# group by salesperson_id and sum the commission column, then sort the values in descending order\n",
    "df.groupby('salesperson_id')['commission_amount'].sum().sort_values(ascending=False)\n"
   ]
  },
  {
   "cell_type": "code",
   "execution_count": 17,
   "metadata": {},
   "outputs": [
    {
     "data": {
      "text/plain": [
       "commission_id        0\n",
       "salesperson_id       0\n",
       "commission_amount    0\n",
       "commission_date      0\n",
       "dtype: int64"
      ]
     },
     "execution_count": 17,
     "metadata": {},
     "output_type": "execute_result"
    }
   ],
   "source": [
    "# check for missing values\n",
    "df.isnull().sum()"
   ]
  },
  {
   "cell_type": "code",
   "execution_count": 18,
   "metadata": {},
   "outputs": [
    {
     "data": {
      "text/plain": [
       "0"
      ]
     },
     "execution_count": 18,
     "metadata": {},
     "output_type": "execute_result"
    }
   ],
   "source": [
    "# check for duplicates\n",
    "df.duplicated().sum()"
   ]
  },
  {
   "cell_type": "code",
   "execution_count": 19,
   "metadata": {},
   "outputs": [],
   "source": [
    "# convert commision_date to month/day/year format, example: 09/08/2023\n",
    "df['commission_date'] = pd.to_datetime(df['commission_date']).dt.strftime('%m/%d/%Y')"
   ]
  },
  {
   "cell_type": "code",
   "execution_count": 20,
   "metadata": {},
   "outputs": [
    {
     "data": {
      "text/plain": [
       "0       01/01/2016\n",
       "1       01/01/2016\n",
       "2       01/01/2016\n",
       "3       01/01/2016\n",
       "4       01/01/2016\n",
       "           ...    \n",
       "3114    12/29/2017\n",
       "3115    12/29/2017\n",
       "3116    12/29/2017\n",
       "3117    12/29/2017\n",
       "3118    12/29/2017\n",
       "Name: commission_date, Length: 3119, dtype: object"
      ]
     },
     "execution_count": 20,
     "metadata": {},
     "output_type": "execute_result"
    }
   ],
   "source": [
    "df['commission_date']"
   ]
  },
  {
   "cell_type": "code",
   "execution_count": 13,
   "metadata": {},
   "outputs": [
    {
     "data": {
      "text/plain": [
       "salesperson_id\n",
       "116    24730.04\n",
       "114    22181.50\n",
       "44     21465.44\n",
       "89     21363.92\n",
       "79     21272.00\n",
       "Name: commission_amount, dtype: float64"
      ]
     },
     "execution_count": 13,
     "metadata": {},
     "output_type": "execute_result"
    }
   ],
   "source": [
    "# Not on zoom\n",
    "# group by salesperson_id and sum the commission column, then sort the values in descending order, then show the top 5\n",
    "df.groupby('salesperson_id')['commission_amount'].sum().sort_values(ascending=False).head()"
   ]
  },
  {
   "cell_type": "code",
   "execution_count": 16,
   "metadata": {},
   "outputs": [
    {
     "data": {
      "text/plain": [
       "<Axes: xlabel='salesperson_id'>"
      ]
     },
     "execution_count": 16,
     "metadata": {},
     "output_type": "execute_result"
    },
    {
     "data": {
      "image/png": "[encoded data removed]",
      "text/plain": [
       "<Figure size 640x480 with 1 Axes>"
      ]
     },
     "metadata": {},
     "output_type": "display_data"
    }
   ],
   "source": [
    "# Not on zoom\n",
    "# make a bar chart of the top 5 salespeople\n",
    "df.groupby('salesperson_id')['commission_amount'].sum().sort_values(ascending=False).head().plot(kind='bar')"
   ]
  },
  {
   "cell_type": "code",
   "execution_count": 21,
   "metadata": {},
   "outputs": [
    {
     "data": {
      "text/plain": [
       "<Axes: >"
      ]
     },
     "execution_count": 21,
     "metadata": {},
     "output_type": "execute_result"
    },
    {
     "data": {
      "image/png": "[encoded data removed]",
      "text/plain": [
       "<Figure size 640x480 with 1 Axes>"
      ]
     },
     "metadata": {},
     "output_type": "display_data"
    }
   ],
   "source": [
    "# check for outliers in the commission_amount column\n",
    "df['commission_amount'].plot(kind='box')"
   ]
  }
 ],
 "metadata": {
  "kernelspec": {
   "display_name": "Python 3",
   "language": "python",
   "name": "python3"
  },
  "language_info": {
   "codemirror_mode": {
    "name": "ipython",
    "version": 3
   },
   "file_extension": ".py",
   "mimetype": "text/x-python",
   "name": "python",
   "nbconvert_exporter": "python",
   "pygments_lexer": "ipython3",
   "version": "3.11.5"
  },
  "orig_nbformat": 4
 },
 "nbformat": 4,
 "nbformat_minor": 2
}
